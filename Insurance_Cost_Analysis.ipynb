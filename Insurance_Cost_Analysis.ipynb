{
 "cells": [
  {
   "cell_type": "markdown",
   "id": "7f5bad49-823e-480a-9659-bb8ff9189cbf",
   "metadata": {},
   "source": [
    "# Project Overview:\n",
    "\n",
    "**Objective:** Analyze medical insurance charges to uncover factors influencing costs and potentially predict future charges.\n",
    "\n",
    "**Dataset:**  A dataset of 2772 health insurance records, including age, gender, BMI, smoking status, region, number of children, and insurance charges.\n",
    "\n",
    "**Tools:**  Employing Python libraries, including Pandas, NumPy, Matplotlib, Seaborn, and Scikit-learn for data manipulation, visualization, and machine learning tasks.\n",
    "\n"
   ]
  },
  {
   "cell_type": "markdown",
   "id": "94bf7e9e-e86c-4e97-9ea4-27ef0dc868d0",
   "metadata": {},
   "source": [
    "### Import The Libraries"
   ]
  },
  {
   "cell_type": "code",
   "execution_count": 25,
   "id": "46a3679b-ac65-4246-b8f3-9db8533199a2",
   "metadata": {},
   "outputs": [],
   "source": [
    "### Importing Required Libraries\n",
    "import pandas as pd\n",
    "import matplotlib.pyplot as plt\n",
    "import numpy as np\n",
    "import seaborn as sns\n",
    "from sklearn.pipeline import Pipeline\n",
    "from sklearn.preprocessing import StandardScaler, PolynomialFeatures\n",
    "from sklearn.linear_model import LinearRegression, Ridge\n",
    "from sklearn.metrics import mean_squared_error, r2_score\n",
    "from sklearn.model_selection import cross_val_score, train_test_split\n",
    "pastel_palette = sns.color_palette(\"pastel\")\n",
    "sns.set_palette(pastel_palette)"
   ]
  },
  {
   "cell_type": "code",
   "execution_count": 26,
   "id": "c9994f6f-9b42-4a8d-8c34-5dd0659e8913",
   "metadata": {},
   "outputs": [
    {
     "data": {
      "text/html": [
       "<div>\n",
       "<style scoped>\n",
       "    .dataframe tbody tr th:only-of-type {\n",
       "        vertical-align: middle;\n",
       "    }\n",
       "\n",
       "    .dataframe tbody tr th {\n",
       "        vertical-align: top;\n",
       "    }\n",
       "\n",
       "    .dataframe thead th {\n",
       "        text-align: right;\n",
       "    }\n",
       "</style>\n",
       "<table border=\"1\" class=\"dataframe\">\n",
       "  <thead>\n",
       "    <tr style=\"text-align: right;\">\n",
       "      <th></th>\n",
       "      <th>Age</th>\n",
       "      <th>Gender</th>\n",
       "      <th>BMI</th>\n",
       "      <th>No_of_children</th>\n",
       "      <th>Smoker</th>\n",
       "      <th>Region</th>\n",
       "      <th>Charges</th>\n",
       "    </tr>\n",
       "  </thead>\n",
       "  <tbody>\n",
       "    <tr>\n",
       "      <th>0</th>\n",
       "      <td>19</td>\n",
       "      <td>1</td>\n",
       "      <td>27.900</td>\n",
       "      <td>0</td>\n",
       "      <td>1</td>\n",
       "      <td>3</td>\n",
       "      <td>16884.92400</td>\n",
       "    </tr>\n",
       "    <tr>\n",
       "      <th>1</th>\n",
       "      <td>18</td>\n",
       "      <td>2</td>\n",
       "      <td>33.770</td>\n",
       "      <td>1</td>\n",
       "      <td>0</td>\n",
       "      <td>4</td>\n",
       "      <td>1725.55230</td>\n",
       "    </tr>\n",
       "    <tr>\n",
       "      <th>2</th>\n",
       "      <td>28</td>\n",
       "      <td>2</td>\n",
       "      <td>33.000</td>\n",
       "      <td>3</td>\n",
       "      <td>0</td>\n",
       "      <td>4</td>\n",
       "      <td>4449.46200</td>\n",
       "    </tr>\n",
       "    <tr>\n",
       "      <th>3</th>\n",
       "      <td>33</td>\n",
       "      <td>2</td>\n",
       "      <td>22.705</td>\n",
       "      <td>0</td>\n",
       "      <td>0</td>\n",
       "      <td>1</td>\n",
       "      <td>21984.47061</td>\n",
       "    </tr>\n",
       "    <tr>\n",
       "      <th>4</th>\n",
       "      <td>32</td>\n",
       "      <td>2</td>\n",
       "      <td>28.880</td>\n",
       "      <td>0</td>\n",
       "      <td>0</td>\n",
       "      <td>1</td>\n",
       "      <td>3866.85520</td>\n",
       "    </tr>\n",
       "  </tbody>\n",
       "</table>\n",
       "</div>"
      ],
      "text/plain": [
       "  Age  Gender     BMI  No_of_children Smoker  Region      Charges\n",
       "0  19       1  27.900               0      1       3  16884.92400\n",
       "1  18       2  33.770               1      0       4   1725.55230\n",
       "2  28       2  33.000               3      0       4   4449.46200\n",
       "3  33       2  22.705               0      0       1  21984.47061\n",
       "4  32       2  28.880               0      0       1   3866.85520"
      ]
     },
     "execution_count": 26,
     "metadata": {},
     "output_type": "execute_result"
    }
   ],
   "source": [
    "headers = [\"Age\", \"Gender\", \"BMI\", \"No_of_children\", \"Smoker\", \"Region\", \"Charges\"]\n",
    "csv = \"/Users/shani/Desktop/Insurence/medical_insurance_dataset.csv\"\n",
    "df = pd.read_csv(csv, header = None, names = headers)\n",
    "df.head(5)"
   ]
  },
  {
   "cell_type": "code",
   "execution_count": 27,
   "id": "9477e952-ff2d-4374-88e2-b09112b3aac1",
   "metadata": {},
   "outputs": [],
   "source": [
    "#replace the '?' entries with 'NaN' values\n",
    "df.replace('?', np.nan, inplace=True)"
   ]
  },
  {
   "cell_type": "code",
   "execution_count": 28,
   "id": "9ef0cfa0-3790-4cae-8807-ab07e59a3703",
   "metadata": {},
   "outputs": [
    {
     "data": {
      "text/plain": [
       "(2772, 7)"
      ]
     },
     "execution_count": 28,
     "metadata": {},
     "output_type": "execute_result"
    }
   ],
   "source": [
    "# Basic information\n",
    "df.shape"
   ]
  },
  {
   "cell_type": "code",
   "execution_count": 29,
   "id": "f7dffb66-e9b8-414d-a799-f91850ad484f",
   "metadata": {},
   "outputs": [
    {
     "data": {
      "text/plain": [
       "Age                object\n",
       "Gender              int64\n",
       "BMI               float64\n",
       "No_of_children      int64\n",
       "Smoker             object\n",
       "Region              int64\n",
       "Charges           float64\n",
       "dtype: object"
      ]
     },
     "execution_count": 29,
     "metadata": {},
     "output_type": "execute_result"
    }
   ],
   "source": [
    "df.dtypes"
   ]
  },
  {
   "cell_type": "markdown",
   "id": "d525c3b4-cf39-4009-89a7-bdfae3ad74b3",
   "metadata": {},
   "source": [
    "### Data Wrangling"
   ]
  },
  {
   "cell_type": "code",
   "execution_count": 30,
   "id": "d95d3f7e-2108-40ef-97e7-04bcbceba5b6",
   "metadata": {
    "scrolled": true
   },
   "outputs": [
    {
     "name": "stdout",
     "output_type": "stream",
     "text": [
      "<class 'pandas.core.frame.DataFrame'>\n",
      "RangeIndex: 2772 entries, 0 to 2771\n",
      "Data columns (total 7 columns):\n",
      " #   Column          Non-Null Count  Dtype  \n",
      "---  ------          --------------  -----  \n",
      " 0   Age             2768 non-null   object \n",
      " 1   Gender          2772 non-null   int64  \n",
      " 2   BMI             2772 non-null   float64\n",
      " 3   No_of_children  2772 non-null   int64  \n",
      " 4   Smoker          2765 non-null   object \n",
      " 5   Region          2772 non-null   int64  \n",
      " 6   Charges         2772 non-null   float64\n",
      "dtypes: float64(2), int64(3), object(2)\n",
      "memory usage: 151.7+ KB\n"
     ]
    }
   ],
   "source": [
    "df.info()"
   ]
  },
  {
   "cell_type": "markdown",
   "id": "50187e50-f0ab-485c-a072-db9c31d66466",
   "metadata": {},
   "source": [
    "## Handling Missing Data\n",
    "- Continuous arrtibutes - replace missing values with mean\n",
    "- Categorical attributes - replace missing values with the most frequent value\n",
    "- Update the data types of the respective columns."
   ]
  },
  {
   "cell_type": "code",
   "execution_count": 31,
   "id": "bc6886e7-03be-4eee-a147-19b515fca522",
   "metadata": {
    "scrolled": true
   },
   "outputs": [],
   "source": [
    "# smoker is a categorical attribute, replace with most frequent entry\n",
    "most_fre_smoker = df['Smoker'].value_counts().idxmax()\n",
    "df[\"Smoker\"].replace(np.nan, most_fre_smoker, inplace=True)\n",
    "\n",
    "# age is a continuous variable, replace with mean age\n",
    "mean_age = df['Age'].astype('float').mean(axis=0)\n",
    "df[\"Age\"].replace(np.nan, mean_age, inplace=True)\n",
    "\n",
    "# Update data types\n",
    "df[[\"Age\",\"Smoker\"]] = df[[\"Age\",\"Smoker\"]].astype(\"int\")"
   ]
  },
  {
   "cell_type": "code",
   "execution_count": 32,
   "id": "a5fadde9-c117-4301-8088-e561dab8f1b5",
   "metadata": {},
   "outputs": [
    {
     "name": "stdout",
     "output_type": "stream",
     "text": [
      "Age               0\n",
      "Gender            0\n",
      "BMI               0\n",
      "No_of_children    0\n",
      "Smoker            0\n",
      "Region            0\n",
      "Charges           0\n",
      "dtype: int64\n"
     ]
    }
   ],
   "source": [
    "null_count_per_column = df.isnull().sum()\n",
    "print(null_count_per_column)"
   ]
  },
  {
   "cell_type": "code",
   "execution_count": 33,
   "id": "814bdbda-ae5b-4b4c-b09a-3e928927d64e",
   "metadata": {},
   "outputs": [
    {
     "name": "stdout",
     "output_type": "stream",
     "text": [
      "<class 'pandas.core.frame.DataFrame'>\n",
      "RangeIndex: 2772 entries, 0 to 2771\n",
      "Data columns (total 7 columns):\n",
      " #   Column          Non-Null Count  Dtype  \n",
      "---  ------          --------------  -----  \n",
      " 0   Age             2772 non-null   int64  \n",
      " 1   Gender          2772 non-null   int64  \n",
      " 2   BMI             2772 non-null   float64\n",
      " 3   No_of_children  2772 non-null   int64  \n",
      " 4   Smoker          2772 non-null   int64  \n",
      " 5   Region          2772 non-null   int64  \n",
      " 6   Charges         2772 non-null   float64\n",
      "dtypes: float64(2), int64(5)\n",
      "memory usage: 151.7 KB\n"
     ]
    }
   ],
   "source": [
    "df.info()"
   ]
  },
  {
   "cell_type": "code",
   "execution_count": 34,
   "id": "f1ae42ee-b62b-4d93-9b56-06b204823556",
   "metadata": {},
   "outputs": [
    {
     "name": "stdout",
     "output_type": "stream",
     "text": [
      "   Age  Gender     BMI  No_of_children  Smoker  Region   Charges\n",
      "0   19       1  27.900               0       1       3  16884.92\n",
      "1   18       2  33.770               1       0       4   1725.55\n",
      "2   28       2  33.000               3       0       4   4449.46\n",
      "3   33       2  22.705               0       0       1  21984.47\n",
      "4   32       2  28.880               0       0       1   3866.86\n"
     ]
    }
   ],
   "source": [
    "df[[\"Charges\"]] = np.round(df[[\"Charges\"]],2)\n",
    "print(df.head())"
   ]
  },
  {
   "cell_type": "markdown",
   "id": "4bde7825-5b0e-4849-9cca-16c85f09e4fc",
   "metadata": {},
   "source": [
    "## Exploratory Data Analysis (EDA)"
   ]
  },
  {
   "cell_type": "code",
   "execution_count": 35,
   "id": "d34ecde4-2f53-4bdd-9de4-8abf2ad342d4",
   "metadata": {},
   "outputs": [
    {
     "data": {
      "text/plain": [
       "(0.0, 66902.85800000001)"
      ]
     },
     "execution_count": 35,
     "metadata": {},
     "output_type": "execute_result"
    },
    {
     "data": {
      "image/png": "[encoded data removed]",
      "text/plain": [
       "<Figure size 640x480 with 1 Axes>"
      ]
     },
     "metadata": {},
     "output_type": "display_data"
    }
   ],
   "source": [
    "#regression plot for charges and bmi\n",
    "sns.regplot(x='BMI', y= \"Charges\", data = df, line_kws={\"color\": \"red\"})\n",
    "plt.ylim(0,)"
   ]
  },
  {
   "cell_type": "code",
   "execution_count": 36,
   "id": "eda63b4c-e7ca-483f-8b27-1d6477484f09",
   "metadata": {},
   "outputs": [
    {
     "data": {
      "text/plain": [
       "<Axes: >"
      ]
     },
     "execution_count": 36,
     "metadata": {},
     "output_type": "execute_result"
    },
    {
     "data": {
      "image/png": "[encoded data removed]",
      "text/plain": [
       "<Figure size 640x480 with 1 Axes>"
      ]
     },
     "metadata": {},
     "output_type": "display_data"
    }
   ],
   "source": [
    "df['Charges'].hist()"
   ]
  },
  {
   "cell_type": "markdown",
   "id": "680f60e4-f486-4dbf-9282-b26d9bb633fa",
   "metadata": {},
   "source": [
    "Charges is right-skewed (Non-normal )distribution."
   ]
  },
  {
   "cell_type": "code",
   "execution_count": 37,
   "id": "58861d8c-e2f7-416e-bacf-44f4bc14bc21",
   "metadata": {},
   "outputs": [
    {
     "data": {
      "text/plain": [
       "<Axes: xlabel='Smoker', ylabel='Charges'>"
      ]
     },
     "execution_count": 37,
     "metadata": {},
     "output_type": "execute_result"
    },
    {
     "data": {
      "image/png": "[encoded data removed]",
      "text/plain": [
       "<Figure size 640x480 with 1 Axes>"
      ]
     },
     "metadata": {},
     "output_type": "display_data"
    }
   ],
   "source": [
    "sns.boxplot(x=\"Smoker\", y=\"Charges\", data=df)"
   ]
  },
  {
   "cell_type": "code",
   "execution_count": 38,
   "id": "ae2b66fa-cb50-45ae-b9e7-843458b0481b",
   "metadata": {},
   "outputs": [
    {
     "data": {
      "text/html": [
       "<div>\n",
       "<style scoped>\n",
       "    .dataframe tbody tr th:only-of-type {\n",
       "        vertical-align: middle;\n",
       "    }\n",
       "\n",
       "    .dataframe tbody tr th {\n",
       "        vertical-align: top;\n",
       "    }\n",
       "\n",
       "    .dataframe thead th {\n",
       "        text-align: right;\n",
       "    }\n",
       "</style>\n",
       "<table border=\"1\" class=\"dataframe\">\n",
       "  <thead>\n",
       "    <tr style=\"text-align: right;\">\n",
       "      <th></th>\n",
       "      <th>Age</th>\n",
       "      <th>Gender</th>\n",
       "      <th>BMI</th>\n",
       "      <th>No_of_children</th>\n",
       "      <th>Smoker</th>\n",
       "      <th>Region</th>\n",
       "      <th>Charges</th>\n",
       "    </tr>\n",
       "  </thead>\n",
       "  <tbody>\n",
       "    <tr>\n",
       "      <th>Age</th>\n",
       "      <td>1.000000</td>\n",
       "      <td>-0.026046</td>\n",
       "      <td>0.113048</td>\n",
       "      <td>0.037574</td>\n",
       "      <td>-0.023286</td>\n",
       "      <td>-0.007167</td>\n",
       "      <td>0.298624</td>\n",
       "    </tr>\n",
       "    <tr>\n",
       "      <th>Gender</th>\n",
       "      <td>-0.026046</td>\n",
       "      <td>1.000000</td>\n",
       "      <td>0.042924</td>\n",
       "      <td>0.016020</td>\n",
       "      <td>0.082326</td>\n",
       "      <td>0.022213</td>\n",
       "      <td>0.062837</td>\n",
       "    </tr>\n",
       "    <tr>\n",
       "      <th>BMI</th>\n",
       "      <td>0.113048</td>\n",
       "      <td>0.042924</td>\n",
       "      <td>1.000000</td>\n",
       "      <td>-0.001492</td>\n",
       "      <td>0.011489</td>\n",
       "      <td>0.271119</td>\n",
       "      <td>0.199846</td>\n",
       "    </tr>\n",
       "    <tr>\n",
       "      <th>No_of_children</th>\n",
       "      <td>0.037574</td>\n",
       "      <td>0.016020</td>\n",
       "      <td>-0.001492</td>\n",
       "      <td>1.000000</td>\n",
       "      <td>0.006362</td>\n",
       "      <td>-0.025717</td>\n",
       "      <td>0.066442</td>\n",
       "    </tr>\n",
       "    <tr>\n",
       "      <th>Smoker</th>\n",
       "      <td>-0.023286</td>\n",
       "      <td>0.082326</td>\n",
       "      <td>0.011489</td>\n",
       "      <td>0.006362</td>\n",
       "      <td>1.000000</td>\n",
       "      <td>0.054077</td>\n",
       "      <td>0.788783</td>\n",
       "    </tr>\n",
       "    <tr>\n",
       "      <th>Region</th>\n",
       "      <td>-0.007167</td>\n",
       "      <td>0.022213</td>\n",
       "      <td>0.271119</td>\n",
       "      <td>-0.025717</td>\n",
       "      <td>0.054077</td>\n",
       "      <td>1.000000</td>\n",
       "      <td>0.054058</td>\n",
       "    </tr>\n",
       "    <tr>\n",
       "      <th>Charges</th>\n",
       "      <td>0.298624</td>\n",
       "      <td>0.062837</td>\n",
       "      <td>0.199846</td>\n",
       "      <td>0.066442</td>\n",
       "      <td>0.788783</td>\n",
       "      <td>0.054058</td>\n",
       "      <td>1.000000</td>\n",
       "    </tr>\n",
       "  </tbody>\n",
       "</table>\n",
       "</div>"
      ],
      "text/plain": [
       "                     Age    Gender       BMI  No_of_children    Smoker  \\\n",
       "Age             1.000000 -0.026046  0.113048        0.037574 -0.023286   \n",
       "Gender         -0.026046  1.000000  0.042924        0.016020  0.082326   \n",
       "BMI             0.113048  0.042924  1.000000       -0.001492  0.011489   \n",
       "No_of_children  0.037574  0.016020 -0.001492        1.000000  0.006362   \n",
       "Smoker         -0.023286  0.082326  0.011489        0.006362  1.000000   \n",
       "Region         -0.007167  0.022213  0.271119       -0.025717  0.054077   \n",
       "Charges         0.298624  0.062837  0.199846        0.066442  0.788783   \n",
       "\n",
       "                  Region   Charges  \n",
       "Age            -0.007167  0.298624  \n",
       "Gender          0.022213  0.062837  \n",
       "BMI             0.271119  0.199846  \n",
       "No_of_children -0.025717  0.066442  \n",
       "Smoker          0.054077  0.788783  \n",
       "Region          1.000000  0.054058  \n",
       "Charges         0.054058  1.000000  "
      ]
     },
     "execution_count": 38,
     "metadata": {},
     "output_type": "execute_result"
    }
   ],
   "source": [
    "df.corr()"
   ]
  },
  {
   "cell_type": "markdown",
   "id": "ca1802e3-418c-4b19-abfe-d333ccbf8563",
   "metadata": {},
   "source": [
    "# Model Development"
   ]
  },
  {
   "cell_type": "markdown",
   "id": "cf63c74f-68e0-4729-83fa-b33ace6e7882",
   "metadata": {},
   "source": [
    "## Model 1: Using Only \"Smoker\" Attribute:"
   ]
  },
  {
   "cell_type": "code",
   "execution_count": 39,
   "id": "a26b9656-43ff-4f3b-a9b4-42c8bb385cde",
   "metadata": {},
   "outputs": [
    {
     "name": "stdout",
     "output_type": "stream",
     "text": [
      "0.6221791733924185\n"
     ]
    }
   ],
   "source": [
    "x = df[['Smoker']]\n",
    "y = df[['Charges']]\n",
    "lm = LinearRegression()\n",
    "lm.fit(x,y)\n",
    "print(lm.score(x,y))"
   ]
  },
  {
   "cell_type": "markdown",
   "id": "240367f6-77c1-49c9-b341-a21e9963119d",
   "metadata": {},
   "source": [
    "R^2 is a good fit for our model"
   ]
  },
  {
   "cell_type": "markdown",
   "id": "3e4800a6-31a4-4afc-9088-4552c7f14035",
   "metadata": {},
   "source": [
    "## Model 2: Using All Other Attributes\n",
    "Now, we are comparing between  2 modeles to evaluate which model performs better in predicting the \"charges\" values."
   ]
  },
  {
   "cell_type": "code",
   "execution_count": 40,
   "id": "3d409dd8-5805-42bb-b43b-fb7e91e397b5",
   "metadata": {},
   "outputs": [
    {
     "name": "stdout",
     "output_type": "stream",
     "text": [
      "0.7504083820289634\n"
     ]
    }
   ],
   "source": [
    "# Assuming df is your DataFrame\n",
    "# definition of Y and lm remain same as used in last cell. \n",
    "Z = df[[\"Age\", \"Gender\", \"BMI\", \"No_of_children\", \"Smoker\", \"Region\"]]\n",
    "lm.fit(Z,y)\n",
    "print(lm.score(Z, y))"
   ]
  },
  {
   "cell_type": "markdown",
   "id": "e1ef9bf7-2385-44bf-9e93-f3c17888795a",
   "metadata": {},
   "source": [
    "**Key Findings:**\n",
    "\n",
    "- **Smoking Status:** Smoking has a strong positive correlation with insurance charges. Smokers have significantly higher charges than non-smokers.\n",
    "\n",
    "- **BMI:** BMI has a positive correlation with charges, indicating higher costs associated with greater body mass index.\n",
    "\n",
    "- **Model Improvement :** A model incorporating multiple factors (age, gender, BMI, smoking status, region, and number of children) achieves an R-squared of 0.75, suggesting that these factors collectively contribute to predicting charges (i.e wee see an improvement in the performance)."
   ]
  },
  {
   "cell_type": "markdown",
   "id": "77660fa8-dd97-4d7d-a39b-f7614a6ac752",
   "metadata": {},
   "source": [
    "Smoker explain the majority of the variability in \"charges\" variable.\n",
    "This indicates \"smoker\" is important variable in predicting \"charges\".\n"
   ]
  },
  {
   "cell_type": "markdown",
   "id": "59f58c2e-207c-49bc-a680-0386b4a2d9cd",
   "metadata": {},
   "source": [
    "# Creating a model that can predict the \"Charges\" value using all the other attributes of the dataset:"
   ]
  },
  {
   "cell_type": "code",
   "execution_count": 41,
   "id": "5f5c35da-f735-4e0c-91a7-e23ebc63ff25",
   "metadata": {},
   "outputs": [
    {
     "name": "stdout",
     "output_type": "stream",
     "text": [
      "0.8452397065969194\n"
     ]
    }
   ],
   "source": [
    "# Y and Z use the same values as defined in previous cells \n",
    "Input=[('scale',StandardScaler()), ('polynomial', PolynomialFeatures(include_bias=False)), ('model', LinearRegression())]\n",
    "pipe=Pipeline(Input)\n",
    "Z = Z.astype(float)\n",
    "pipe.fit(Z,y)\n",
    "ypipe=pipe.predict(Z)\n",
    "print(r2_score(y,ypipe))"
   ]
  },
  {
   "cell_type": "markdown",
   "id": "84d3d8ec-97f7-4e0f-8b2a-e43ebce724c3",
   "metadata": {},
   "source": [
    "We can see further improvments in the model"
   ]
  },
  {
   "cell_type": "markdown",
   "id": "8be23499-4d60-426f-8f53-00bb1f5af87f",
   "metadata": {},
   "source": [
    "# Model Refinement\n",
    "## Data Splitting"
   ]
  },
  {
   "cell_type": "code",
   "execution_count": 42,
   "id": "ae250fc6-e414-4728-a978-4eb1c05d3ab0",
   "metadata": {},
   "outputs": [
    {
     "name": "stdout",
     "output_type": "stream",
     "text": [
      "Training set shape (X_train): (2217, 1)\n",
      "Testing set shape (X_test): (555, 1)\n",
      "Training labels shape (y_train): (2217, 1)\n",
      "Testing labels shape (y_test): (555, 1)\n"
     ]
    }
   ],
   "source": [
    "# Assuming 'data' is your dataset and 'labels' are corresponding labels/targets\n",
    "\n",
    "# Splitting the data into training and testing sets\n",
    "x_train, x_test, y_train, y_test = train_test_split(x, y, test_size=0.2, random_state=42)\n",
    "\n",
    "# 'test_size=0.2' reserves 20% of the data for testing\n",
    "# 'random_state=42' ensures reproducibility, the same split every time you run this code\n",
    "\n",
    "# Check the shapes of the resulting datasets\n",
    "print(\"Training set shape (X_train):\", x_train.shape)\n",
    "print(\"Testing set shape (X_test):\", x_test.shape)\n",
    "print(\"Training labels shape (y_train):\", y_train.shape)\n",
    "print(\"Testing labels shape (y_test):\", y_test.shape)"
   ]
  },
  {
   "cell_type": "markdown",
   "id": "370b06a7-523f-4721-a242-30ff1b12fec6",
   "metadata": {},
   "source": [
    "## Ridge Regression"
   ]
  },
  {
   "cell_type": "code",
   "execution_count": 43,
   "id": "40821780-aaa5-4992-b387-ab0342fac963",
   "metadata": {},
   "outputs": [
    {
     "name": "stdout",
     "output_type": "stream",
     "text": [
      "0.5991181787450695\n"
     ]
    }
   ],
   "source": [
    "# Ridge Regression without Polynomial Features\n",
    "RidgeModel=Ridge(alpha=0.1)\n",
    "RidgeModel.fit(x_train, y_train)\n",
    "yhat = RidgeModel.predict(x_test)\n",
    "print(r2_score(y_test,yhat))"
   ]
  },
  {
   "cell_type": "markdown",
   "id": "f2d53817-5e31-4d84-86f1-627b47dd81d8",
   "metadata": {},
   "source": [
    "## Polynomial Features with Ridge Regression"
   ]
  },
  {
   "cell_type": "code",
   "execution_count": 44,
   "id": "d4b2c288-c427-42f5-9af2-bb86b2f7371c",
   "metadata": {},
   "outputs": [
    {
     "name": "stdout",
     "output_type": "stream",
     "text": [
      "0.5991269967260672\n"
     ]
    }
   ],
   "source": [
    "# x_train, x_test, y_train, y_test hold same values as in previous cells\n",
    "pr = PolynomialFeatures(degree=2)\n",
    "x_train_pr = pr.fit_transform(x_train)\n",
    "x_test_pr = pr.fit_transform(x_test)\n",
    "RidgeModel.fit(x_train_pr, y_train)\n",
    "y_hat = RidgeModel.predict(x_test_pr)\n",
    "print(r2_score(y_test,y_hat))"
   ]
  }
 ],
 "metadata": {
  "kernelspec": {
   "display_name": "venv",
   "language": "python",
   "name": "venv"
  },
  "language_info": {
   "codemirror_mode": {
    "name": "ipython",
    "version": 3
   },
   "file_extension": ".py",
   "mimetype": "text/x-python",
   "name": "python",
   "nbconvert_exporter": "python",
   "pygments_lexer": "ipython3",
   "version": "3.11.6"
  }
 },
 "nbformat": 4,
 "nbformat_minor": 5
}
